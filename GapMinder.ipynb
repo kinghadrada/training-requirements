{
  "nbformat": 4,
  "nbformat_minor": 0,
  "metadata": {
    "colab": {
      "name": "GapMinder.ipynb",
      "provenance": [],
      "authorship_tag": "ABX9TyPacKWGNfGyi36x4+s1sPgb",
      "include_colab_link": true
    },
    "kernelspec": {
      "name": "python3",
      "display_name": "Python 3"
    },
    "language_info": {
      "name": "python"
    }
  },
  "cells": [
    {
      "cell_type": "markdown",
      "metadata": {
        "id": "view-in-github",
        "colab_type": "text"
      },
      "source": [
        "<a href=\"https://colab.research.google.com/github/kinghadrada/training-requirements/blob/main/GapMinder.ipynb\" target=\"_parent\"><img src=\"https://colab.research.google.com/assets/colab-badge.svg\" alt=\"Open In Colab\"/></a>"
      ]
    },
    {
      "cell_type": "code",
      "metadata": {
        "colab": {
          "base_uri": "https://localhost:8080/"
        },
        "id": "1mIBJtpyimts",
        "outputId": "a277fdf8-f6e4-4cbb-8d02-0566075a509f"
      },
      "source": [
        "from google.colab import drive\n",
        "drive.mount('/content/drive')\n",
        "\n",
        "import pandas as pd"
      ],
      "execution_count": 4,
      "outputs": [
        {
          "output_type": "stream",
          "text": [
            "Drive already mounted at /content/drive; to attempt to forcibly remount, call drive.mount(\"/content/drive\", force_remount=True).\n"
          ],
          "name": "stdout"
        }
      ]
    },
    {
      "cell_type": "code",
      "metadata": {
        "id": "T5R4JbaOjnrm"
      },
      "source": [
        "gapminder_df = pd.read_csv(\"https://raw.githubusercontent.com/Bioinformatics-Research-Network/training-requirements/main/Python%20for%20Data%20Science/gapminder_clean.csv\")"
      ],
      "execution_count": 20,
      "outputs": []
    },
    {
      "cell_type": "code",
      "metadata": {
        "id": "VO0mqdDlkcdx"
      },
      "source": [
        "gap_1962 = gapminder_df[gapminder_df['Year'] == 1962]"
      ],
      "execution_count": 21,
      "outputs": []
    },
    {
      "cell_type": "code",
      "metadata": {
        "colab": {
          "base_uri": "https://localhost:8080/",
          "height": 300
        },
        "id": "2TczrENSkozR",
        "outputId": "6f647928-fbe0-49eb-9300-b359f1761d64"
      },
      "source": [
        "gap_1962.plot.scatter(x='CO2 emissions (metric tons per capita)', y='gdpPercap')"
      ],
      "execution_count": 22,
      "outputs": [
        {
          "output_type": "execute_result",
          "data": {
            "text/plain": [
              "<matplotlib.axes._subplots.AxesSubplot at 0x7f04bc0caf90>"
            ]
          },
          "metadata": {
            "tags": []
          },
          "execution_count": 22
        },
        {
          "output_type": "display_data",
          "data": {
            "image/png": "[encoded data removed]",
            "text/plain": [
              "<Figure size 432x288 with 1 Axes>"
            ]
          },
          "metadata": {
            "tags": [],
            "needs_background": "light"
          }
        }
      ]
    },
    {
      "cell_type": "code",
      "metadata": {
        "colab": {
          "base_uri": "https://localhost:8080/"
        },
        "id": "4C8yny3Blobg",
        "outputId": "37d51537-f0f1-4242-c5a6-7388cb952725"
      },
      "source": [
        "gap_1962.corr()['gdpPercap'][3]"
      ],
      "execution_count": 23,
      "outputs": [
        {
          "output_type": "execute_result",
          "data": {
            "text/plain": [
              "0.9260816725019451"
            ]
          },
          "metadata": {
            "tags": []
          },
          "execution_count": 23
        }
      ]
    },
    {
      "cell_type": "markdown",
      "metadata": {
        "id": "bhig6LBZqbdx"
      },
      "source": [
        "Pandas won't give me a p-Value of the correlation so I went to *stackoverflow* to get some help\n",
        "\n",
        "\n",
        "https://stackoverflow.com/questions/25571882/pandas-columns-correlation-with-statistical-significance"
      ]
    },
    {
      "cell_type": "code",
      "metadata": {
        "colab": {
          "base_uri": "https://localhost:8080/"
        },
        "id": "5TNzyxAXmJSe",
        "outputId": "bafb338e-85c5-41f6-e64d-9c11cc2d847c"
      },
      "source": [
        "import scipy.stats  as stats\n",
        "\n",
        "temp = gap_1962[['CO2 emissions (metric tons per capita)', 'gdpPercap']].dropna()\n",
        "\n",
        "stats.pearsonr(temp['CO2 emissions (metric tons per capita)'], temp['gdpPercap'])"
      ],
      "execution_count": 29,
      "outputs": [
        {
          "output_type": "execute_result",
          "data": {
            "text/plain": [
              "(0.9260816725019472, 1.1286792210038754e-46)"
            ]
          },
          "metadata": {
            "tags": []
          },
          "execution_count": 29
        }
      ]
    },
    {
      "cell_type": "code",
      "metadata": {
        "colab": {
          "base_uri": "https://localhost:8080/"
        },
        "id": "U-9zU3FPrHu3",
        "outputId": "44a4d585-f194-452d-a02e-09e9d1fd0d40"
      },
      "source": [
        "gapminder_df['Year'].unique()"
      ],
      "execution_count": 59,
      "outputs": [
        {
          "output_type": "execute_result",
          "data": {
            "text/plain": [
              "array([1962, 1967, 1972, 1977, 1982, 1987, 1992, 1997, 2002, 2007])"
            ]
          },
          "metadata": {
            "tags": []
          },
          "execution_count": 59
        }
      ]
    },
    {
      "cell_type": "code",
      "metadata": {
        "colab": {
          "base_uri": "https://localhost:8080/"
        },
        "id": "oZi8o7cesVfQ",
        "outputId": "0b3b6777-ec93-4db8-adb4-b3ad89164993"
      },
      "source": [
        "ylst = [1962, 1967, 1972, 1977, 1982, 1987, 1992, 1997, 2002, 2007]\n",
        "\n",
        "for i in ylst: \n",
        "  d = gapminder_df[gapminder_df['Year'] == i].corr()['gdpPercap'][3]\n",
        "  print(\"Year - %s and Corr - %s\" % (i,d))"
      ],
      "execution_count": 57,
      "outputs": [
        {
          "output_type": "stream",
          "text": [
            "Year - 1962 and Corr - 0.9260816725019451\n",
            "Year - 1967 and Corr - 0.9387918385063316\n",
            "Year - 1972 and Corr - 0.8428985866268466\n",
            "Year - 1977 and Corr - 0.7928335935904496\n",
            "Year - 1982 and Corr - 0.8166384024309291\n",
            "Year - 1987 and Corr - 0.8095530841191891\n",
            "Year - 1992 and Corr - 0.8094316203754854\n",
            "Year - 1997 and Corr - 0.8081396359866698\n",
            "Year - 2002 and Corr - 0.8006420656289515\n",
            "Year - 2007 and Corr - 0.7204168835195921\n"
          ],
          "name": "stdout"
        }
      ]
    },
    {
      "cell_type": "markdown",
      "metadata": {
        "id": "Jf05-H1d4zQg"
      },
      "source": [
        "We can see clearly that there is maximum correlation between CO2 Emissions and Per Capita GDP in the year ***1967***."
      ]
    },
    {
      "cell_type": "code",
      "metadata": {
        "id": "xCOrgxKQ4XRy"
      },
      "source": [
        "gap_1967 = gapminder_df[gapminder_df['Year'] == 1967]"
      ],
      "execution_count": 60,
      "outputs": []
    },
    {
      "cell_type": "code",
      "metadata": {
        "id": "UtlJhuo55iH2"
      },
      "source": [
        "import plotly\n",
        "from plotly.offline import download_plotlyjs, "
      ],
      "execution_count": 61,
      "outputs": []
    },
    {
      "cell_type": "code",
      "metadata": {
        "colab": {
          "base_uri": "https://localhost:8080/",
          "height": 35
        },
        "id": "0zF7pQG06Hvk",
        "outputId": "8055a83a-06ac-43a3-9b05-8bed6e00b20a"
      },
      "source": [
        ""
      ],
      "execution_count": 62,
      "outputs": [
        {
          "output_type": "execute_result",
          "data": {
            "application/vnd.google.colaboratory.intrinsic+json": {
              "type": "string"
            },
            "text/plain": [
              "'4.4.1'"
            ]
          },
          "metadata": {
            "tags": []
          },
          "execution_count": 62
        }
      ]
    },
    {
      "cell_type": "code",
      "metadata": {
        "id": "bXCuWanX6JhA"
      },
      "source": [
        ""
      ],
      "execution_count": null,
      "outputs": []
    }
  ]
}